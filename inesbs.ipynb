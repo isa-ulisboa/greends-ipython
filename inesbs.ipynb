{
 "cells": [
  {
   "cell_type": "code",
   "execution_count": 1,
   "metadata": {},
   "outputs": [
    {
     "name": "stdout",
     "output_type": "stream",
     "text": [
      "Four is greater than zero!\n"
     ]
    }
   ],
   "source": [
    "# Identation\n",
    "if 4 > 0:\n",
    "    print(\"Four is greater than zero!\")"
   ]
  },
  {
   "cell_type": "code",
   "execution_count": 3,
   "metadata": {},
   "outputs": [
    {
     "name": "stdout",
     "output_type": "stream",
     "text": [
      "[]\n"
     ]
    }
   ],
   "source": [
    "# variables are created when a value is assigned to it\n",
    "x = 3 # x is an integer\n",
    "y = \"5\" # y is a string\n",
    "x = \"10\"\n",
    "x = [] # python assumes the last variable assigned\n",
    "\n",
    "print (x)"
   ]
  },
  {
   "cell_type": "code",
   "execution_count": 5,
   "metadata": {},
   "outputs": [
    {
     "name": "stdout",
     "output_type": "stream",
     "text": [
      "25\n",
      "25 25 25\n",
      "<class 'int'>\n"
     ]
    }
   ],
   "source": [
    "# DATA TYPES\n",
    "a = 25 #integer\n",
    "print (a)\n",
    "\n",
    "a=b=c=25\n",
    "print (a,b,c)\n",
    "\n",
    "print (type(a))"
   ]
  },
  {
   "cell_type": "code",
   "execution_count": 6,
   "metadata": {},
   "outputs": [],
   "source": [
    "#DATA TYPES\n",
    "\n",
    "# float a=.55\n",
    "# string a=GreenDS\n",
    "# integer a=5\n",
    "# boolean type True or False (with capital first letter)"
   ]
  },
  {
   "cell_type": "code",
   "execution_count": null,
   "metadata": {},
   "outputs": [],
   "source": [
    " "
   ]
  }
 ],
 "metadata": {
  "kernelspec": {
   "display_name": "Python 3.10.7 64-bit (microsoft store)",
   "language": "python",
   "name": "python3"
  },
  "language_info": {
   "codemirror_mode": {
    "name": "ipython",
    "version": 3
   },
   "file_extension": ".py",
   "mimetype": "text/x-python",
   "name": "python",
   "nbconvert_exporter": "python",
   "pygments_lexer": "ipython3",
   "version": "3.10.7"
  },
  "orig_nbformat": 4,
  "vscode": {
   "interpreter": {
    "hash": "1751951557473203e7f1ab93b6d32ea04c6145e5ff48286289a9a556c897348b"
   }
  }
 },
 "nbformat": 4,
 "nbformat_minor": 2
}
