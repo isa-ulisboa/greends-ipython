{
 "cells": [
  {
   "cell_type": "markdown",
   "metadata": {},
   "source": [
    "# Preparing the Slingshot (cont.)\n",
    "(João Palma - Master GreenDS)\n",
    "ipynb - stands for **I**teractive **PY**thon **N**ote**B**ook"
   ]
  },
  {
   "cell_type": "markdown",
   "metadata": {},
   "source": [
    "# Pandas"
   ]
  },
  {
   "cell_type": "markdown",
   "metadata": {},
   "source": [
    "Reference: https://pandas.pydata.org/docs/reference/index.html"
   ]
  },
  {
   "cell_type": "markdown",
   "metadata": {},
   "source": [
    "## Read Dataset"
   ]
  },
  {
   "cell_type": "markdown",
   "metadata": {},
   "source": [
    "### Group by"
   ]
  },
  {
   "cell_type": "code",
   "execution_count": null,
   "metadata": {},
   "outputs": [],
   "source": [
    "import pandas as pd\n",
    "Current = pd.read_csv('Climate_hisafe_knmievaluation_daily_from_01-01-1981_to_31-12-2010.csv', skiprows=[0])\n",
    "#print(Current.to_string()) \n",
    "\n",
    "#Create a subset (new dataset)\n",
    "Current1991_2010_nd=Current[(Current[\"Year\"] >= 1991) & (Current[\"Year\"] <= 2010)]\n",
    "#same as\n",
    "#Calculating monthly averages\n",
    "avg_y=Current1991_2010_nd.groupby(['Day','Month']).mean()\n",
    "#print (avg_y.to_string()) \n",
    "\n",
    "avg_m=Current1991_2010_nd.groupby(['Month']).mean()\n",
    "#print (avg_m.to_string()) \n"
   ]
  },
  {
   "cell_type": "code",
   "execution_count": null,
   "metadata": {},
   "outputs": [],
   "source": [
    "#visualize series of a dataframe\n",
    "import matplotlib.pyplot as plt\n",
    "plt.figure()\n",
    "#series we want to plot from dataframe\n",
    "avg_m['tasmax'].plot(label='Max Temp', color='orange')\n",
    "avg_m['tasmin'].plot(label='Min Temp', color='blue')\n",
    "\n",
    "# adding title to the plot\n",
    "plt.title('Average Temperatures 1981-2010')\n",
    "# adding Label to the x-axis\n",
    "plt.xlabel('Month')\n",
    "# adding Label to the y-axis\n",
    "plt.ylabel('°C')\n",
    "# adding legend to the curves\n",
    "plt.legend()\n",
    "\n",
    "# (see options for .plot @ https://matplotlib.org/stable/api/_as_gen/matplotlib.pyplot.plot.html)"
   ]
  },
  {
   "cell_type": "code",
   "execution_count": 69,
   "metadata": {},
   "outputs": [
    {
     "name": "stdout",
     "output_type": "stream",
     "text": [
      "21.297565144162146\n"
     ]
    },
    {
     "data": {
      "image/png": "[encoded data removed]",
      "text/plain": [
       "<Figure size 432x288 with 1 Axes>"
      ]
     },
     "metadata": {
      "needs_background": "light"
     },
     "output_type": "display_data"
    }
   ],
   "source": [
    "#Plotting precipitation\n",
    "#visualize series of a dataframe\n",
    "import matplotlib.pyplot as plt\n",
    "plt.figure()\n",
    "avg_m['pr'].plot.bar(label='Precipitation', color='black', linestyle='dashed')\n",
    "# adding title to the plot\n",
    "plt.title('Average Precipitation 1981-2010')\n",
    "# adding Label to the x-axis\n",
    "plt.xlabel('Month')\n",
    "# adding Label to the y-axis\n",
    "plt.ylabel('mm')\n",
    "\n",
    "# adding legend to the curves\n",
    "plt.legend()\n",
    "\n",
    "# does this chart makes sense? Think about the data! Data has a meaning...\n",
    "print (avg_m['pr'].sum())\n"
   ]
  },
  {
   "cell_type": "code",
   "execution_count": 70,
   "metadata": {},
   "outputs": [
    {
     "name": "stdout",
     "output_type": "stream",
     "text": [
      "20\n"
     ]
    }
   ],
   "source": [
    "#how about precipitation? it is not the average, but rather accumulation of precipitation\n",
    "#sum the rain per month and divide per number of years\n",
    "sum_m=Current1991_2010_nd.groupby(['Month']).sum()/20 # 20 years of data\n",
    "#print (sum_m)\n",
    "# or if you don't know the number of years, you could count the unique number of the \"Year\" field\n",
    "nr_years = Current1991_2010_nd['Year'].nunique()\n",
    "print (nr_years)\n",
    "sum_m=Current1991_2010_nd.groupby(['Month']).sum()/Current1991_2010_nd['Year'].nunique()\n"
   ]
  },
  {
   "cell_type": "code",
   "execution_count": 71,
   "metadata": {},
   "outputs": [
    {
     "name": "stdout",
     "output_type": "stream",
     "text": [
      "647.7090000000001\n"
     ]
    },
    {
     "data": {
      "image/png": "[encoded data removed]",
      "text/plain": [
       "<Figure size 432x288 with 1 Axes>"
      ]
     },
     "metadata": {
      "needs_background": "light"
     },
     "output_type": "display_data"
    }
   ],
   "source": [
    "#plot it \n",
    "sum_m['pr'].plot.bar(label='Precipitation', color='black', linestyle='dashed')\n",
    "print (sum_m['pr'].sum()) # sum of precipitation is not from Atacama desert anymore! Makes more sense "
   ]
  }
 ],
 "metadata": {
  "kernelspec": {
   "display_name": "Python 3.8.10 64-bit",
   "language": "python",
   "name": "python3"
  },
  "language_info": {
   "codemirror_mode": {
    "name": "ipython",
    "version": 3
   },
   "file_extension": ".py",
   "mimetype": "text/x-python",
   "name": "python",
   "nbconvert_exporter": "python",
   "pygments_lexer": "ipython3",
   "version": "3.8.10"
  },
  "orig_nbformat": 4,
  "vscode": {
   "interpreter": {
    "hash": "43c891b8ec44cd41362f25fe9f96b5c11f058b1f257f4fbe1a27a0706b819511"
   }
  }
 },
 "nbformat": 4,
 "nbformat_minor": 2
}
