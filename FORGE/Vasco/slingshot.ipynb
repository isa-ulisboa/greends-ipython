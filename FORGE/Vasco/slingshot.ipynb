{
 "cells": [
  {
   "cell_type": "code",
   "execution_count": 3,
   "metadata": {},
   "outputs": [
    {
     "name": "stdout",
     "output_type": "stream",
     "text": [
      "something\n",
      "23\n",
      "ds\n",
      "26\n"
     ]
    }
   ],
   "source": [
    "def myFirstGreenDSFunction(arg1, agr2):\n",
    "    print(arg1,agr2)\n",
    "    return 'GREEN DS'\n",
    "\n",
    "agr1 = \"data source 1\"\n",
    "agr2 = \"data source 2\"\n",
    "\n",
    "def test():\n",
    "    return 'something'\n",
    "a = test()\n",
    "print (a)\n",
    "\n",
    "var1=23\n",
    "var2='ds'\n",
    "var3=26\n",
    "\n",
    "list = (var1, var2, var3)\n",
    "\n",
    "print(var1)\n",
    "print(var2)\n",
    "print(var3)"
   ]
  },
  {
   "cell_type": "markdown",
   "metadata": {},
   "source": [
    "# Field capacity"
   ]
  },
  {
   "cell_type": "code",
   "execution_count": 2,
   "metadata": {},
   "outputs": [
    {
     "name": "stdout",
     "output_type": "stream",
     "text": [
      "0.6056921297711275\n"
     ]
    }
   ],
   "source": [
    "from math import e\n",
    "import math\n",
    "\n",
    "def myfunction():\n",
    "    return \"Soils\"\n",
    "\n",
    "def function2():\n",
    "    return \"Field Capacity\"\n",
    "\n",
    "def FieldCapacity(C,D,S,OM,TP):\n",
    "    val1=0.7919\n",
    "    val2=0.001691*C\n",
    "    val3=0.29619*D\n",
    "    val4=0.000001491*(S**2)\n",
    "    val5=0.0000821*(OM**2)\n",
    "    val6=0.02427*(C**-1)\n",
    "    val7=0.01113*(S**-1)\n",
    "    val8=0.01472*(math.log(S))\n",
    "    val9=0.0000733*OM*C\n",
    "    val10=0.000619*D*C\n",
    "    val11=0.001183*D*OM\n",
    "    val12=0.0001664*TP*S\n",
    "    return val1+val2-val3-val4+val5+val6+val7+val8-val9-val10-val11-val12\n",
    "\n",
    "print(FieldCapacity(0.2,1.3,0.1,0.05,1))"
   ]
  },
  {
   "cell_type": "markdown",
   "metadata": {},
   "source": [
    "# Sample first 100 from database"
   ]
  },
  {
   "cell_type": "code",
   "execution_count": null,
   "metadata": {},
   "outputs": [],
   "source": [
    "#sample file first 100\n",
    "\n",
    "f = open(\"GreenDSfile1.csv\")\n",
    "lst = f.readlines()\n",
    "f.close()\n",
    "\n",
    "fout = open(\"GreenDSfile1_sample.cvs\" , \"w\")\n",
    "for i in range(100):\n",
    "    fout.writelines(lst[i])\n",
    "fout.close()"
   ]
  }
 ],
 "metadata": {
  "kernelspec": {
   "display_name": "Python 3.10.7 64-bit",
   "language": "python",
   "name": "python3"
  },
  "language_info": {
   "codemirror_mode": {
    "name": "ipython",
    "version": 3
   },
   "file_extension": ".py",
   "mimetype": "text/x-python",
   "name": "python",
   "nbconvert_exporter": "python",
   "pygments_lexer": "ipython3",
   "version": "3.10.7"
  },
  "orig_nbformat": 4,
  "vscode": {
   "interpreter": {
    "hash": "26de051ba29f2982a8de78e945f0abaf191376122a1563185a90213a26c5da77"
   }
  }
 },
 "nbformat": 4,
 "nbformat_minor": 2
}
