{
 "cells": [
  {
   "cell_type": "markdown",
   "metadata": {},
   "source": [
    "# ASSIGNMENT # 7 - Current and future climate. VPD differences. \n",
    "- <span style=\"color:gold\">***(copy this notebook to your PERSONAL FORGE)***</span>\n",
    "- Consider your assignment # 6\n",
    "- In that assignement you created a VPD column into this file \"Climate_hisafe_knmievaluation_daily_from_01-01-1981_to_31-12-2010.csv\" that represents current climate\n",
    "- In this assigment, you will perform a similar exercise but to the file of future climate: <span style=\"color:green\">\"Climate_hisafe_knmircp85_daily_from_01-01-2006_to_31-12-2100.csv\"</span>\n",
    "- Create a new column of VPD in the future climate file\n",
    "- USE PANDAS to calculate the monthly average:\n",
    "  -  from 1981 to 2010 (file with current climate)\n",
    "  -  from 2031 to 2060 (file with future climate)\n",
    "  -  plot a simple graph with Maptplotlib of VPD from current and future climate "
   ]
  },
  {
   "cell_type": "code",
   "execution_count": 1,
   "metadata": {},
   "outputs": [
    {
     "ename": "AttributeError",
     "evalue": "module 'myfunctions' has no attribute 'calculate_vpd'",
     "output_type": "error",
     "traceback": [
      "\u001b[1;31m---------------------------------------------------------------------------\u001b[0m",
      "\u001b[1;31mAttributeError\u001b[0m                            Traceback (most recent call last)",
      "\u001b[1;32m~\\AppData\\Local\\Temp\\ipykernel_6016\\1559393727.py\u001b[0m in \u001b[0;36m<module>\u001b[1;34m\u001b[0m\n\u001b[0;32m     10\u001b[0m \u001b[1;31m# Calculate VPD with pandas (your vpd function should work with numpy instead math library)\u001b[0m\u001b[1;33m\u001b[0m\u001b[1;33m\u001b[0m\u001b[1;33m\u001b[0m\u001b[0m\n\u001b[0;32m     11\u001b[0m \u001b[1;31m# The following creates an additional column called \"VPD\" where your function is used\u001b[0m\u001b[1;33m\u001b[0m\u001b[1;33m\u001b[0m\u001b[1;33m\u001b[0m\u001b[0m\n\u001b[1;32m---> 12\u001b[1;33m \u001b[0mCurrent\u001b[0m\u001b[1;33m[\u001b[0m\u001b[1;34m\"VPD\"\u001b[0m\u001b[1;33m]\u001b[0m \u001b[1;33m=\u001b[0m \u001b[0mmyfunctions\u001b[0m\u001b[1;33m.\u001b[0m\u001b[0mcalculate_vpd\u001b[0m\u001b[1;33m(\u001b[0m\u001b[0mCurrent\u001b[0m\u001b[1;33m[\u001b[0m\u001b[1;34m\"tasmax\"\u001b[0m\u001b[1;33m]\u001b[0m\u001b[1;33m,\u001b[0m\u001b[0mCurrent\u001b[0m\u001b[1;33m[\u001b[0m\u001b[1;34m\"tasmin\"\u001b[0m\u001b[1;33m]\u001b[0m\u001b[1;33m,\u001b[0m\u001b[0mCurrent\u001b[0m\u001b[1;33m[\u001b[0m\u001b[1;34m\"hurs\"\u001b[0m\u001b[1;33m]\u001b[0m \u001b[1;33m)\u001b[0m\u001b[1;33m\u001b[0m\u001b[1;33m\u001b[0m\u001b[0m\n\u001b[0m\u001b[0;32m     13\u001b[0m \u001b[0mFuture\u001b[0m\u001b[1;33m[\u001b[0m\u001b[1;34m\"VPD\"\u001b[0m\u001b[1;33m]\u001b[0m \u001b[1;33m=\u001b[0m \u001b[0mmyfunctions\u001b[0m\u001b[1;33m.\u001b[0m\u001b[0mcalculate_vpd\u001b[0m\u001b[1;33m(\u001b[0m\u001b[0mFuture\u001b[0m\u001b[1;33m[\u001b[0m\u001b[1;34m\"tasmax\"\u001b[0m\u001b[1;33m]\u001b[0m\u001b[1;33m,\u001b[0m\u001b[0mFuture\u001b[0m\u001b[1;33m[\u001b[0m\u001b[1;34m\"tasmin\"\u001b[0m\u001b[1;33m]\u001b[0m\u001b[1;33m,\u001b[0m\u001b[0mFuture\u001b[0m\u001b[1;33m[\u001b[0m\u001b[1;34m\"hurs\"\u001b[0m\u001b[1;33m]\u001b[0m \u001b[1;33m)\u001b[0m\u001b[1;33m\u001b[0m\u001b[1;33m\u001b[0m\u001b[0m\n\u001b[0;32m     14\u001b[0m \u001b[1;33m\u001b[0m\u001b[0m\n",
      "\u001b[1;31mAttributeError\u001b[0m: module 'myfunctions' has no attribute 'calculate_vpd'"
     ]
    }
   ],
   "source": [
    "import sys\n",
    "# (Facultative) setting path to get your myfunctions \n",
    "sys.path.append('../FORGE/JOAOPALMA') # This adds your modules if your module is somewhere else not script folder or subfolders\n",
    "\n",
    "import pandas as pd\n",
    "import myfunctions\n",
    "Current = pd.read_csv('../Climate_hisafe_knmievaluation_daily_from_01-01-1981_to_31-12-2010.csv', skiprows=[0])\n",
    "Future = pd.read_csv('../Climate_hisafe_knmircp85_daily_from_01-01-2006_to_31-12-2100.csv', skiprows=[0])\n",
    "\n",
    "# Calculate VPD with pandas (your vpd function should work with numpy instead math library)\n",
    "# The following creates an additional column called \"VPD\" where your function is used\n",
    "Current[\"VPD\"] = myfunctions.calculate_vpd(Current[\"tasmax\"],Current[\"tasmin\"],Current[\"hurs\"] )\n",
    "Future[\"VPD\"] = myfunctions.calculate_vpd(Future[\"tasmax\"],Future[\"tasmin\"],Future[\"hurs\"] )\n",
    "\n",
    "### ... keep going\n"
   ]
  }
 ],
 "metadata": {
  "kernelspec": {
   "display_name": "Python 3.8.10 64-bit",
   "language": "python",
   "name": "python3"
  },
  "language_info": {
   "codemirror_mode": {
    "name": "ipython",
    "version": 3
   },
   "file_extension": ".py",
   "mimetype": "text/x-python",
   "name": "python",
   "nbconvert_exporter": "python",
   "pygments_lexer": "ipython3",
   "version": "3.8.10"
  },
  "orig_nbformat": 4,
  "vscode": {
   "interpreter": {
    "hash": "43c891b8ec44cd41362f25fe9f96b5c11f058b1f257f4fbe1a27a0706b819511"
   }
  }
 },
 "nbformat": 4,
 "nbformat_minor": 2
}
