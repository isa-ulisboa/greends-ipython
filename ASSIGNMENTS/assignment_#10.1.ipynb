{
 "cells": [
  {
   "cell_type": "markdown",
   "metadata": {},
   "source": [
    "## ASSIGNMENT #10.1  - Create an API that receives Tmin, Tmax, RHmean and returns VPD\n",
    "- Sync your Fork\n",
    "- create a file called vpd_api.py\n",
    "- the api should return Vapour Pressure Values given Tmin, Tmax, RHmean\n",
    "- the api needs to handle data input errors (e.g. needs to make sure that floats are given, etc) "
   ]
  }
 ],
 "metadata": {
  "kernelspec": {
   "display_name": "Python 3.8.10 64-bit",
   "language": "python",
   "name": "python3"
  },
  "language_info": {
   "codemirror_mode": {
    "name": "ipython",
    "version": 3
   },
   "file_extension": ".py",
   "mimetype": "text/x-python",
   "name": "python",
   "nbconvert_exporter": "python",
   "pygments_lexer": "ipython3",
   "version": "3.8.10"
  },
  "orig_nbformat": 4,
  "vscode": {
   "interpreter": {
    "hash": "43c891b8ec44cd41362f25fe9f96b5c11f058b1f257f4fbe1a27a0706b819511"
   }
  }
 },
 "nbformat": 4,
 "nbformat_minor": 2
}
