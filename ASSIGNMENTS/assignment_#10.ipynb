{
 "cells": [
  {
   "cell_type": "markdown",
   "metadata": {},
   "source": [
    "## ASSIGNMENT #10  - Create an API that returns a JSON with Nitrogen deposition for a particular location in europe\n",
    "- Sync your Fork"
   ]
  },
  {
   "cell_type": "markdown",
   "metadata": {},
   "source": [
    "### Mission\n",
    "- Remind yourself of assignment #9\n",
    "- You are going to provide the 1) latitude, 2) longitude and 3) emep filename as arguments to your script, **BUT outside** your python code, in your command line\n",
    "- Your code should output the same resulting JSON file (as assignment #9), but running your program in the Terminal like this:\n",
    "  - assignment_#10.py --lat 37.9 --lon -7.8 --file EMEP01_rv4.42_year.2019met_2019emis.nc\n",
    "\n"
   ]
  },
  {
   "cell_type": "code",
   "execution_count": null,
   "metadata": {},
   "outputs": [],
   "source": [
    "#API to deliver a JSON with atmospheric N Deposition\n",
    "#The script will process the arguments passed from outside the code, e.g. \n",
    "#assignment_#10.py --lat 37.9 --lon -7.8 --file EMEP01_rv4.42_year.2019met_2019emis.nc\n",
    "\n",
    "# Load your NetCDF as before:\n",
    "import netCDF4 as nc \n",
    "import numpy as np\n",
    "import json\n",
    "import sys\n",
    "\n",
    "### Section start - PIECE OF CODE TO HANDLE THE ARGUMENTS\n",
    "\n",
    "\n",
    "### Section end - PIECE OF CODE TO HANDLE THE ARGUMENTS\n",
    "\n",
    "### you can copy code from your previous assignment and adapt your Lat, Lon and NetCDF file to become variables "
   ]
  }
 ],
 "metadata": {
  "kernelspec": {
   "display_name": "Python 3.8.10 64-bit",
   "language": "python",
   "name": "python3"
  },
  "language_info": {
   "codemirror_mode": {
    "name": "ipython",
    "version": 3
   },
   "file_extension": ".py",
   "mimetype": "text/x-python",
   "name": "python",
   "nbconvert_exporter": "python",
   "pygments_lexer": "ipython3",
   "version": "3.8.10"
  },
  "orig_nbformat": 4,
  "vscode": {
   "interpreter": {
    "hash": "43c891b8ec44cd41362f25fe9f96b5c11f058b1f257f4fbe1a27a0706b819511"
   }
  }
 },
 "nbformat": 4,
 "nbformat_minor": 2
}
