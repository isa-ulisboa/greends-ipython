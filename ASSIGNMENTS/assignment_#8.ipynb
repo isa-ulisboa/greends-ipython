{
 "cells": [
  {
   "cell_type": "markdown",
   "metadata": {},
   "source": [
    "## ASSIGNMENT #8  - Create a program to retrieve the value of Precipitation given a latitute and longitude coordinate. (Real World)\n",
    "- <span style=\"color:gold\">***(copy this notebook to your PERSONAL FORGE)***</span>"
   ]
  },
  {
   "cell_type": "markdown",
   "metadata": {},
   "source": [
    "\n",
    "- To retrieve values of a RASTER (or NetCDF) from a certain real geografic coordinate, you first need to find to which indexes that lat and lon corresponds in the NetCDF grid\n",
    "- Consider the file ***EMEP01_rv4.42_year.2019met_2019emis.nc***\n",
    "- Consider you want to retrieve precipitation (WDEP_PREC variable from the dataset) from the location with Lat: 38.568, Lon: -9.720\n",
    "- Assignment is to get precipitation from location inLat: 38.568, inLon: -9.720\n",
    "- **Tip:** Find the index of the latitude which is nearer to inLat. Do the same to inLon\n",
    "- then print the precipitation for those indexes (wich is the precipitation of the inLat and inLon)\n",
    "- **Tip**: create a function in your collection (e.g. myFunctions) to find the index of nearest coordinate, eg a function that receives as arguments 1) a number (coordinate), and 2) a list (of coordinates), returning the index of the nearest coodinate found in that list"
   ]
  },
  {
   "cell_type": "code",
   "execution_count": null,
   "metadata": {},
   "outputs": [],
   "source": [
    "# Load your NetCDF as before:\n",
    "import netCDF4 as nc \n",
    "fn = '../FORGE/EMEP01_rv4.42_year.2019met_2019emis.nc' # update this path to your own file\n",
    "ds = nc.Dataset(fn)\n",
    "#list of the lat, lon, coordinates and precipitation\n",
    "lats = ds.variables['lat'][:]\n",
    "lons = ds.variables['lon'][:]\n",
    "prec = ds.variables['WDEP_PREC']"
   ]
  }
 ],
 "metadata": {
  "kernelspec": {
   "display_name": "Python 3.8.10 64-bit",
   "language": "python",
   "name": "python3"
  },
  "language_info": {
   "codemirror_mode": {
    "name": "ipython",
    "version": 3
   },
   "file_extension": ".py",
   "mimetype": "text/x-python",
   "name": "python",
   "nbconvert_exporter": "python",
   "pygments_lexer": "ipython3",
   "version": "3.8.10"
  },
  "orig_nbformat": 4,
  "vscode": {
   "interpreter": {
    "hash": "43c891b8ec44cd41362f25fe9f96b5c11f058b1f257f4fbe1a27a0706b819511"
   }
  }
 },
 "nbformat": 4,
 "nbformat_minor": 2
}
